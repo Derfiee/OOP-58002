{
  "nbformat": 4,
  "nbformat_minor": 0,
  "metadata": {
    "colab": {
      "name": "Prelim Exam.ipynb",
      "provenance": [],
      "authorship_tag": "ABX9TyNHO/fYNnGFL7fQmeXT4Qzs",
      "include_colab_link": true
    },
    "kernelspec": {
      "name": "python3",
      "display_name": "Python 3"
    },
    "language_info": {
      "name": "python"
    }
  },
  "cells": [
    {
      "cell_type": "markdown",
      "metadata": {
        "id": "view-in-github",
        "colab_type": "text"
      },
      "source": [
        "<a href=\"https://colab.research.google.com/github/Derfiee/OOP-58002/blob/main/Prelim_Exam.ipynb\" target=\"_parent\"><img src=\"https://colab.research.google.com/assets/colab-badge.svg\" alt=\"Open In Colab\"/></a>"
      ]
    },
    {
      "cell_type": "code",
      "source": [
        "class StudentWithAttributes():\n",
        " def __init__(self,name,studentnum,age,school,course):\n",
        "   self.name = name\n",
        "   self.studentnum = studentnum\n",
        "   self.age= age\n",
        "   self.school = school\n",
        "   self.course = course\n",
        "\n",
        " def section(self):\n",
        "   print(\"Name:\", self.name)\n",
        "   print(\"Student No.:\", self.studentnum)\n",
        "   print(\"Age:\", self.age)\n",
        "   print(\"Schol:\", self.school)\n",
        "   print(\"Course:\", self.course)\n",
        "\n",
        "myself= StudentWithAttributes(\"Dumapias, Alfred Resti R. \",\"202110121 \",\"20 \",\"Adamson University \",\"BS CpE \")\n",
        "myself.section()\n",
        "\n"
      ],
      "metadata": {
        "colab": {
          "base_uri": "https://localhost:8080/"
        },
        "id": "IWBjz-8NFjSd",
        "outputId": "5175af20-6e77-43be-ef60-af555a8a9f83"
      },
      "execution_count": 39,
      "outputs": [
        {
          "output_type": "stream",
          "name": "stdout",
          "text": [
            "Name: Dumapias, Alfred Resti R. \n",
            "Student No.: 202110121 \n",
            "Age: 20 \n",
            "Schol: Adamson University \n",
            "Course: BS CpE \n"
          ]
        }
      ]
    },
    {
      "cell_type": "code",
      "source": [
        "n = 20\n",
        "\n",
        "total_numbers = n\n",
        "\n",
        "sum = 0\n",
        "\n",
        "while n >= 0:\n",
        "\n",
        "  sum += n\n",
        "\n",
        "  n -= 1\n",
        "\n",
        "print(\"sum =\", sum)\n",
        "\n",
        "\n",
        "\n",
        "average = sum / total_numbers\n",
        "\n",
        "print(\"Average = \", average)"
      ],
      "metadata": {
        "colab": {
          "base_uri": "https://localhost:8080/"
        },
        "id": "PNaoDV26SOaF",
        "outputId": "ffc36eeb-88a9-4c56-fd41-ffe29581aa54"
      },
      "execution_count": 30,
      "outputs": [
        {
          "output_type": "stream",
          "name": "stdout",
          "text": [
            "sum = 210\n",
            "Average =  10.5\n"
          ]
        }
      ]
    }
  ]
}