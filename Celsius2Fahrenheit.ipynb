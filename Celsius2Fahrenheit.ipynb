{
  "nbformat": 4,
  "nbformat_minor": 0,
  "metadata": {
    "colab": {
      "name": "Untitled0.ipynb",
      "provenance": [],
      "authorship_tag": "ABX9TyONmZnxBWaqT0LijHLo3sSQ",
      "include_colab_link": true
    },
    "kernelspec": {
      "name": "python3",
      "display_name": "Python 3"
    },
    "language_info": {
      "name": "python"
    }
  },
  "cells": [
    {
      "cell_type": "markdown",
      "metadata": {
        "id": "view-in-github",
        "colab_type": "text"
      },
      "source": [
        "<a href=\"https://colab.research.google.com/github/Derfiee/OOP-58002/blob/main/Celsius2Fahrenheit.ipynb\" target=\"_parent\"><img src=\"https://colab.research.google.com/assets/colab-badge.svg\" alt=\"Open In Colab\"/></a>"
      ]
    },
    {
      "cell_type": "code",
      "source": [
        "Celsius_1 = float(input(\"Temperature value of ℃:\"))\n",
        "\n",
        "#Celsius to Fahrenheit\n",
        "#Formula\n",
        "fahrenheit_1 = (Celsius_1 * 1.8) + 32\n",
        "\n",
        "#Results\n",
        "print ('The %.2f ℃ is equal to %.2f ℉'\n",
        "      %(Celsius_1, fahrenheit_1)) \n",
        " \n",
        "#Fahrenheit to Celsius\n",
        "print(\"~~~~~~~~~~~~~~~~~~~~~~~~~~~~~~~~~~~~~~~~~~~~~~~~~~~~~~~~~~~~~~~~.\")  \n",
        "Fahrenheit_2 = float( input(\"Temperature value in ℉:\"))  \n",
        "celsius_2 = (Fahrenheit_2 - 32) * 5/9 \n",
        "\n",
        "#Results\n",
        "print ('The %.2f ℉ is equal to %.2f ℃' \n",
        "      %(Fahrenheit_2, celsius_2))"
      ],
      "metadata": {
        "colab": {
          "base_uri": "https://localhost:8080/"
        },
        "id": "ill10upqOmh8",
        "outputId": "9cf69bbf-ae21-4903-b7f7-0393c11d3911"
      },
      "execution_count": 12,
      "outputs": [
        {
          "output_type": "stream",
          "name": "stdout",
          "text": [
            "Temperature value of ℃:1\n",
            "The 1.00 ℃ is equal to 33.80 ℉\n",
            "~~~~~~~~~~~~~~~~~~~~~~~~~~~~~~~~~~~~~~~~~~~~~~~~~~~~~~~~~~~~~~~~.\n",
            "Temperature value in ℉:1\n",
            "The 1.00 ℉ is equal to -17.22 ℃\n"
          ]
        }
      ]
    },
    {
      "cell_type": "markdown",
      "source": [
        ""
      ],
      "metadata": {
        "id": "2SX7X8MKOwOc"
      }
    }
  ]
}