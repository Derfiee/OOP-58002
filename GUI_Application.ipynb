{
  "nbformat": 4,
  "nbformat_minor": 0,
  "metadata": {
    "colab": {
      "name": "GUI Application.ipynb",
      "provenance": [],
      "authorship_tag": "ABX9TyPh1Tky13E7upjs/sKGf5Sv",
      "include_colab_link": true
    },
    "kernelspec": {
      "name": "python3",
      "display_name": "Python 3"
    },
    "language_info": {
      "name": "python"
    }
  },
  "cells": [
    {
      "cell_type": "markdown",
      "metadata": {
        "id": "view-in-github",
        "colab_type": "text"
      },
      "source": [
        "<a href=\"https://colab.research.google.com/github/Derfiee/OOP-58002/blob/main/GUI_Application.ipynb\" target=\"_parent\"><img src=\"https://colab.research.google.com/assets/colab-badge.svg\" alt=\"Open In Colab\"/></a>"
      ]
    },
    {
      "cell_type": "markdown",
      "source": [
        "Create an  Python program that displays the grade of a student in prelim, midterm, and final term"
      ],
      "metadata": {
        "id": "tXtdVSUDaCXm"
      }
    },
    {
      "cell_type": "code",
      "source": [
        "#@title Student's Grade in OOP \n",
        "\n",
        "Student_Name = 'Alfred Resti R. Dumapias:'#@param {type: \"string\"}\n",
        "prelim_grade = 85 #@param {type:'number'}\n",
        "midterm_grade = 80 #@param {type:'number'}\n",
        "final_grade = 80 #@param {type:'number'}\n",
        "semestral = (prelim_grade*.30+midterm_grade*.30+final_grade*.40)\n",
        "\n",
        "print(\"Semestral student Grade: \" +str(round((semestral),2)))\n",
        "\n",
        "Gender = \"Male\" #@param [\"Male\",\"Female\"]\n",
        "Birthdate = \"2003-7-20\" #@param {type: \"date\"}\n",
        "\n",
        "print(Gender)\n",
        "print(\"Student's birthday: \"+ Birthdate)"
      ],
      "metadata": {
        "colab": {
          "base_uri": "https://localhost:8080/"
        },
        "id": "Ouq2SVjXaP53",
        "outputId": "da3e014f-eadc-4c5b-f30f-82127c7398f6"
      },
      "execution_count": 20,
      "outputs": [
        {
          "output_type": "stream",
          "name": "stdout",
          "text": [
            "Semestral of the student is 81.5\n",
            "Male\n",
            "My birthday is 2003-7-20\n"
          ]
        }
      ]
    }
  ]
}