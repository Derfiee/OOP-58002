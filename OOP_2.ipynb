{
  "nbformat": 4,
  "nbformat_minor": 0,
  "metadata": {
    "colab": {
      "name": "OOP-2.ipynb",
      "provenance": [],
      "collapsed_sections": [],
      "authorship_tag": "ABX9TyNZyeiZOtgiBEFwtvK00an2",
      "include_colab_link": true
    },
    "kernelspec": {
      "name": "python3",
      "display_name": "Python 3"
    },
    "language_info": {
      "name": "python"
    }
  },
  "cells": [
    {
      "cell_type": "markdown",
      "metadata": {
        "id": "view-in-github",
        "colab_type": "text"
      },
      "source": [
        "<a href=\"https://colab.research.google.com/github/Derfiee/OOP-58002/blob/main/OOP_2.ipynb\" target=\"_parent\"><img src=\"https://colab.research.google.com/assets/colab-badge.svg\" alt=\"Open In Colab\"/></a>"
      ]
    },
    {
      "cell_type": "markdown",
      "source": [
        "Classes with Multiple Objects"
      ],
      "metadata": {
        "id": "LTBA5yxyVYSi"
      }
    },
    {
      "cell_type": "code",
      "source": [
        "class Birds:\n",
        " def __init__(self,Bird_name):\n",
        "   self.bird_name = bird_name\n",
        "  \n",
        " def flying_birds(self):\n",
        "   print(f\"{self.bird_name}flies above clouds\")\n",
        "\n",
        " def non_flying_birds(self):\n",
        "   print(f\"{self.bird_name} is the national bird of the Philippines\")\n",
        "\n",
        "  \n",
        "vulture = Birds(\"Griffon Vulture\")\n",
        "crane = Birds(\"Common Crane\")\n",
        "emu = Birds(\"Emu\")\n",
        "\n",
        "vulture.flying_birds()\n",
        "crane.flying_birds()\n",
        "emu.flying_birds()"
      ],
      "metadata": {
        "colab": {
          "base_uri": "https://localhost:8080/",
          "height": 356
        },
        "id": "A_J4YMPHVdNr",
        "outputId": "c4278e6d-90a5-4074-feb0-ff57aa3191e5"
      },
      "execution_count": 40,
      "outputs": [
        {
          "output_type": "error",
          "ename": "NameError",
          "evalue": "ignored",
          "traceback": [
            "\u001b[0;31m---------------------------------------------------------------------------\u001b[0m",
            "\u001b[0;31mNameError\u001b[0m                                 Traceback (most recent call last)",
            "\u001b[0;32m<ipython-input-40-78933c26d202>\u001b[0m in \u001b[0;36m<module>\u001b[0;34m()\u001b[0m\n\u001b[1;32m     10\u001b[0m \u001b[0;34m\u001b[0m\u001b[0m\n\u001b[1;32m     11\u001b[0m \u001b[0;34m\u001b[0m\u001b[0m\n\u001b[0;32m---> 12\u001b[0;31m \u001b[0mvulture\u001b[0m \u001b[0;34m=\u001b[0m \u001b[0mBirds\u001b[0m\u001b[0;34m(\u001b[0m\u001b[0;34m\"Griffon Vulture\"\u001b[0m\u001b[0;34m)\u001b[0m\u001b[0;34m\u001b[0m\u001b[0;34m\u001b[0m\u001b[0m\n\u001b[0m\u001b[1;32m     13\u001b[0m \u001b[0mcrane\u001b[0m \u001b[0;34m=\u001b[0m \u001b[0mBirds\u001b[0m\u001b[0;34m(\u001b[0m\u001b[0;34m\"Common Crane\"\u001b[0m\u001b[0;34m)\u001b[0m\u001b[0;34m\u001b[0m\u001b[0;34m\u001b[0m\u001b[0m\n\u001b[1;32m     14\u001b[0m \u001b[0memu\u001b[0m \u001b[0;34m=\u001b[0m \u001b[0mBirds\u001b[0m\u001b[0;34m(\u001b[0m\u001b[0;34m\"Emu\"\u001b[0m\u001b[0;34m)\u001b[0m\u001b[0;34m\u001b[0m\u001b[0;34m\u001b[0m\u001b[0m\n",
            "\u001b[0;32m<ipython-input-40-78933c26d202>\u001b[0m in \u001b[0;36m__init__\u001b[0;34m(self, Bird_name)\u001b[0m\n\u001b[1;32m      1\u001b[0m \u001b[0;32mclass\u001b[0m \u001b[0mBirds\u001b[0m\u001b[0;34m:\u001b[0m\u001b[0;34m\u001b[0m\u001b[0;34m\u001b[0m\u001b[0m\n\u001b[1;32m      2\u001b[0m  \u001b[0;32mdef\u001b[0m \u001b[0m__init__\u001b[0m\u001b[0;34m(\u001b[0m\u001b[0mself\u001b[0m\u001b[0;34m,\u001b[0m\u001b[0mBird_name\u001b[0m\u001b[0;34m)\u001b[0m\u001b[0;34m:\u001b[0m\u001b[0;34m\u001b[0m\u001b[0;34m\u001b[0m\u001b[0m\n\u001b[0;32m----> 3\u001b[0;31m    \u001b[0mself\u001b[0m\u001b[0;34m.\u001b[0m\u001b[0mbird_name\u001b[0m \u001b[0;34m=\u001b[0m \u001b[0mbird_name\u001b[0m\u001b[0;34m\u001b[0m\u001b[0;34m\u001b[0m\u001b[0m\n\u001b[0m\u001b[1;32m      4\u001b[0m \u001b[0;34m\u001b[0m\u001b[0m\n\u001b[1;32m      5\u001b[0m  \u001b[0;32mdef\u001b[0m \u001b[0mflying_birds\u001b[0m\u001b[0;34m(\u001b[0m\u001b[0mself\u001b[0m\u001b[0;34m)\u001b[0m\u001b[0;34m:\u001b[0m\u001b[0;34m\u001b[0m\u001b[0;34m\u001b[0m\u001b[0m\n",
            "\u001b[0;31mNameError\u001b[0m: name 'bird_name' is not defined"
          ]
        }
      ]
    },
    {
      "cell_type": "markdown",
      "source": [
        "Encapsulation (Mangling with double underscores)"
      ],
      "metadata": {
        "id": "nT_qiTReXGcg"
      }
    },
    {
      "cell_type": "code",
      "source": [
        "class foo:\n",
        "  def __init__(self,a,b):\n",
        "    self.__a = a\n",
        "    self.__b = b\n",
        "\n",
        "  def add(self):\n",
        "    return self.__a + self.__b\n",
        "  def sub(self):\n",
        "    return self.__a - self.__b\n",
        "foo_object = foo(3,4)\n",
        "    \n",
        "print(foo_object.add())  #adding a and b\n",
        "print(foo_object.sub())  #subtracting a and b\n",
        "\n",
        "foo_object.__b = 5\n",
        "foo_object.__a = 7\n",
        "\n",
        "print(foo_object.add())\n",
        "print(foo_object.sub())"
      ],
      "metadata": {
        "colab": {
          "base_uri": "https://localhost:8080/"
        },
        "id": "TzOEM1tiXJlE",
        "outputId": "fcbcd60a-2bcf-40e8-d597-1a8a2ece30b2"
      },
      "execution_count": null,
      "outputs": [
        {
          "output_type": "stream",
          "name": "stdout",
          "text": [
            "7\n",
            "-1\n",
            "7\n",
            "-1\n"
          ]
        }
      ]
    },
    {
      "cell_type": "markdown",
      "source": [
        "Inheritance"
      ],
      "metadata": {
        "id": "Bxoyh4eldReE"
      }
    },
    {
      "cell_type": "code",
      "source": [
        "class Person:\n",
        "  def __init__(self,firstname,surname):\n",
        "    self.firstname = firstname\n",
        "    self.surname = surname\n",
        "\n",
        "  def printname(self):\n",
        "    print(self.firstname,self.surname)\n",
        "\n",
        "person = Person(\"Alfred Resti\",\"Dumapias\")\n",
        "person.printname()\n",
        "\n",
        "class Student(Person):\n",
        "  pass\n",
        "\n",
        "person = Student(\"Alfred\",\"Dumapias\")\n",
        "person.printname()"
      ],
      "metadata": {
        "colab": {
          "base_uri": "https://localhost:8080/"
        },
        "id": "LXrHmoY9dSbo",
        "outputId": "93302206-20ed-4733-9fa8-28bc9e03d3fa"
      },
      "execution_count": null,
      "outputs": [
        {
          "output_type": "stream",
          "name": "stdout",
          "text": [
            "Alfred Resti Dumapias\n",
            "Alfred Dumapias\n"
          ]
        }
      ]
    },
    {
      "cell_type": "markdown",
      "source": [
        "Polymorphism"
      ],
      "metadata": {
        "id": "emCieIbbgXFE"
      }
    },
    {
      "cell_type": "code",
      "source": [
        "class RegularPolygon:\n",
        "  def __init__(self,side):\n",
        "    self.side = side\n",
        "class Square(RegularPolygon):\n",
        "  def area(self):\n",
        "    return self.side * self.side\n",
        "class EquilateralTriangle(RegularPolygon):\n",
        "  def area(self):\n",
        "    return self.side * self.side * 0.433\n",
        "\n",
        "x = Square(4)\n",
        "y = EquilateralTriangle(3)\n",
        "\n",
        "print(x.area())\n",
        "print(y.area())\n",
        "\n"
      ],
      "metadata": {
        "colab": {
          "base_uri": "https://localhost:8080/"
        },
        "id": "2iiz6Y8Qgay9",
        "outputId": "95544c0a-7a48-4ec7-a056-77ed9978b1ed"
      },
      "execution_count": null,
      "outputs": [
        {
          "output_type": "stream",
          "name": "stdout",
          "text": [
            "16\n",
            "3.897\n"
          ]
        }
      ]
    },
    {
      "cell_type": "markdown",
      "source": [
        "Application 1"
      ],
      "metadata": {
        "id": "YZ6lQSkOjhzo"
      }
    },
    {
      "cell_type": "markdown",
      "source": [
        "1. Create a Pythin program that displays the name of three students (Student 1, Student 2, Student 3) and their term grades\n",
        "2. Create a class name Person and attributes - std1, std2, std3, pre, mid, fin\n",
        "3. Compute the average of each term grade using Grade() method\n",
        "4. Information about student's grades must be hidden from others"
      ],
      "metadata": {
        "id": "vNbPuvh3jxpa"
      }
    }
  ]
}