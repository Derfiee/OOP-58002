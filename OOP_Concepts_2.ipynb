{
  "nbformat": 4,
  "nbformat_minor": 0,
  "metadata": {
    "colab": {
      "name": "OOP Concepts 2.ipynb",
      "provenance": [],
      "authorship_tag": "ABX9TyP9RLx+AF0Wwu2ZIjpviP48",
      "include_colab_link": true
    },
    "kernelspec": {
      "name": "python3",
      "display_name": "Python 3"
    },
    "language_info": {
      "name": "python"
    }
  },
  "cells": [
    {
      "cell_type": "markdown",
      "metadata": {
        "id": "view-in-github",
        "colab_type": "text"
      },
      "source": [
        "<a href=\"https://colab.research.google.com/github/Derfiee/OOP-58002/blob/main/OOP_Concepts_2.ipynb\" target=\"_parent\"><img src=\"https://colab.research.google.com/assets/colab-badge.svg\" alt=\"Open In Colab\"/></a>"
      ]
    },
    {
      "cell_type": "code",
      "source": [
        ""
      ],
      "metadata": {
        "id": "_vR9Ux3m1vSm"
      },
      "execution_count": null,
      "outputs": []
    },
    {
      "cell_type": "markdown",
      "source": [
        "OOP Concepts 2\n"
      ],
      "metadata": {
        "id": "jEqIGp6CaRgq"
      }
    },
    {
      "cell_type": "code",
      "source": [
        "class Person:\n",
        "  def __init__(self,std1,std2,std3,pre,mid,fin):\n",
        "    self.std1 = std1\n",
        "    self.std2 = std2\n",
        "    self.std3 = std3\n",
        "    self.pre = pre*.30\n",
        "    self.mid = mid*.30\n",
        "    self.fin = fin*.40\n",
        "  def Grades(self):\n",
        "    print(\"Student: \" + self.std1,self.std2,self.std3)\n",
        "    print(\"Final Grade: \"+ str((self.pre + self.mid + self.fin)/3))\n",
        "\n",
        "Student1 = Person(\"Batutay,\",\"Erica Rich\",\"G.\",90,90,80)\n",
        "Student1.Grades()\n",
        "Student2 = Person(\"Dumapias,\",\"Alfred Resti\",\"R.\",80,80,70)\n",
        "Student2.Grades()\n",
        "Student3 = Person(\"Madrigal,\",\"Cyrus John\",\"D.\",70,80,90)\n",
        "Student3.Grades()"
      ],
      "metadata": {
        "colab": {
          "base_uri": "https://localhost:8080/"
        },
        "id": "Otz9dppyaWuu",
        "outputId": "91941c4f-daa4-4ab4-b3b9-d2d46e30882b"
      },
      "execution_count": null,
      "outputs": [
        {
          "output_type": "stream",
          "name": "stdout",
          "text": [
            "Student: Batutay, Erica Rich G.\n",
            "Final Grade: 28.666666666666668\n",
            "Student: Dumapias, Alfred Resti R.\n",
            "Final Grade: 25.333333333333332\n",
            "Student: Madrigal, Cyrus John D.\n",
            "Final Grade: 27.0\n"
          ]
        }
      ]
    }
  ]
}