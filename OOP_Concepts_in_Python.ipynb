{
  "nbformat": 4,
  "nbformat_minor": 0,
  "metadata": {
    "colab": {
      "name": "OOP Concepts in Python.ipynb",
      "provenance": [],
      "authorship_tag": "ABX9TyMxB7fTI3aRD+nGly+/BA1W",
      "include_colab_link": true
    },
    "kernelspec": {
      "name": "python3",
      "display_name": "Python 3"
    },
    "language_info": {
      "name": "python"
    }
  },
  "cells": [
    {
      "cell_type": "markdown",
      "metadata": {
        "id": "view-in-github",
        "colab_type": "text"
      },
      "source": [
        "<a href=\"https://colab.research.google.com/github/Derfiee/OOP-58002/blob/main/OOP_Concepts_in_Python.ipynb\" target=\"_parent\"><img src=\"https://colab.research.google.com/assets/colab-badge.svg\" alt=\"Open In Colab\"/></a>"
      ]
    },
    {
      "cell_type": "markdown",
      "source": [
        "Create a Class"
      ],
      "metadata": {
        "id": "QQoILDoXHbAL"
      }
    },
    {
      "cell_type": "code",
      "source": [
        "class car:\n",
        "  pass"
      ],
      "metadata": {
        "id": "jMSbBAyzHhWT"
      },
      "execution_count": null,
      "outputs": []
    },
    {
      "cell_type": "markdown",
      "source": [
        "Create an Object"
      ],
      "metadata": {
        "id": "Qb6nfmQPKuhI"
      }
    },
    {
      "cell_type": "code",
      "source": [
        "class Car:\n",
        "  def __init__(self,name, color): # all calsses have functioin called __init__\n",
        "   self.name = name               # attribute names of class named Car\n",
        "   self.color = color\n",
        "  \n",
        "  def decription(self):\n",
        "   return \"The\"+ self.name + \"has a color\" + self.color\n",
        "\n",
        "  def show(self):\n",
        "   print(\"The\"+\" \"+self.name+\" has a color\"+\" \"+self.color)\n",
        "\n",
        "car1 = Car(\"Honda City\",\"red\")\n",
        "car1.show()"
      ],
      "metadata": {
        "colab": {
          "base_uri": "https://localhost:8080/"
        },
        "id": "tNuwbjADKv4b",
        "outputId": "d31ab587-9bde-48cf-dde6-2402821c9848"
      },
      "execution_count": null,
      "outputs": [
        {
          "output_type": "stream",
          "name": "stdout",
          "text": [
            "The Honda City has a color red\n"
          ]
        }
      ]
    },
    {
      "cell_type": "markdown",
      "source": [
        "Onject Methods"
      ],
      "metadata": {
        "id": "egkILc-MOt8P"
      }
    },
    {
      "cell_type": "code",
      "source": [
        "class Person:\n",
        "  def __init__(self,name, age):\n",
        "   self.name = name\n",
        "   self.age = age\n",
        "  def myFunction(self):\n",
        "   print (\"Hello! My name is\",self.name)\n",
        "   print(\"I am\",self.age)\n",
        "\n",
        "p1 = Person(\"Alfred\",18)\n",
        "p1.myFunction()"
      ],
      "metadata": {
        "colab": {
          "base_uri": "https://localhost:8080/"
        },
        "id": "Jv_I1LEyOvVk",
        "outputId": "dc0e6d0e-f1f8-4ac4-a834-afb6d8c4b2bb"
      },
      "execution_count": null,
      "outputs": [
        {
          "output_type": "stream",
          "name": "stdout",
          "text": [
            "Hello! My name is Alfred\n",
            "I am 18\n"
          ]
        }
      ]
    },
    {
      "cell_type": "markdown",
      "source": [
        "Modify an Object Property"
      ],
      "metadata": {
        "id": "QxkglbPSPsWn"
      }
    },
    {
      "cell_type": "code",
      "source": [
        "class Car:\n",
        "  def __init__(self,name, color): # all classes have function called __init__\n",
        "   self.name = name                # attribute names of class named Car\n",
        "   self.color = color\n",
        "\n",
        "  def decription(self):\n",
        "    return \"The\" + self.name + \"has a color\" + self.color\n",
        "\n",
        "  def show(self):\n",
        "    print(\"The\"+\" \"+self.name +\"has a color\"+\" \"+self.color)\n",
        "\n",
        "\n",
        "car1 = Car(\"Honda City\",\"red\")\n",
        "car1.show()"
      ],
      "metadata": {
        "colab": {
          "base_uri": "https://localhost:8080/"
        },
        "id": "KGCvegVDQPuX",
        "outputId": "ea6be835-45ae-4b4c-e9bd-dec6417d98b4"
      },
      "execution_count": null,
      "outputs": [
        {
          "output_type": "stream",
          "name": "stdout",
          "text": [
            "The Honda Cityhas a color red\n"
          ]
        }
      ]
    },
    {
      "cell_type": "code",
      "source": [
        "#Modify an Object Property\n",
        "car1.name = \"Mitsubishi\"\n",
        "print(car1.name)\n",
        "\n",
        "car1.color=\"blue\"\n",
        "print(car1.color)"
      ],
      "metadata": {
        "colab": {
          "base_uri": "https://localhost:8080/"
        },
        "id": "79kDF4RjUGVa",
        "outputId": "36c08fd0-d2d1-4c1e-8b51-76b1d968df27"
      },
      "execution_count": null,
      "outputs": [
        {
          "output_type": "stream",
          "name": "stdout",
          "text": [
            "Mitsubishi\n",
            "blue\n"
          ]
        }
      ]
    },
    {
      "cell_type": "markdown",
      "source": [
        "Delete an Object Property"
      ],
      "metadata": {
        "id": "SyP7lI5UW3wK"
      }
    },
    {
      "cell_type": "code",
      "source": [
        "del car1.colorprint\n",
        "(car1.color)"
      ],
      "metadata": {
        "colab": {
          "base_uri": "https://localhost:8080/",
          "height": 183
        },
        "id": "qGR1bKnRW5aj",
        "outputId": "ebc2a1a3-7fa0-47c9-8628-2134574999de"
      },
      "execution_count": null,
      "outputs": [
        {
          "output_type": "error",
          "ename": "AttributeError",
          "evalue": "ignored",
          "traceback": [
            "\u001b[0;31m---------------------------------------------------------------------------\u001b[0m",
            "\u001b[0;31mAttributeError\u001b[0m                            Traceback (most recent call last)",
            "\u001b[0;32m<ipython-input-71-f50cd6225d24>\u001b[0m in \u001b[0;36m<module>\u001b[0;34m()\u001b[0m\n\u001b[0;32m----> 1\u001b[0;31m \u001b[0;32mdel\u001b[0m \u001b[0mcar1\u001b[0m\u001b[0;34m.\u001b[0m\u001b[0mcolorprint\u001b[0m\u001b[0;34m\u001b[0m\u001b[0;34m\u001b[0m\u001b[0m\n\u001b[0m\u001b[1;32m      2\u001b[0m \u001b[0;34m(\u001b[0m\u001b[0mcar1\u001b[0m\u001b[0;34m.\u001b[0m\u001b[0mcolor\u001b[0m\u001b[0;34m)\u001b[0m\u001b[0;34m\u001b[0m\u001b[0;34m\u001b[0m\u001b[0m\n",
            "\u001b[0;31mAttributeError\u001b[0m: colorprint"
          ]
        }
      ]
    },
    {
      "cell_type": "code",
      "source": [
        "print(car1.name)\n",
        "print(car1.color)"
      ],
      "metadata": {
        "colab": {
          "base_uri": "https://localhost:8080/"
        },
        "id": "wdMF4EIyW_9W",
        "outputId": "c31eb297-e3e3-4388-df80-3028fe6c86da"
      },
      "execution_count": null,
      "outputs": [
        {
          "output_type": "stream",
          "name": "stdout",
          "text": [
            "Mitsubishi\n",
            "blue\n"
          ]
        }
      ]
    },
    {
      "cell_type": "markdown",
      "source": [
        "Aplication 1 - Write a Python program that computes for the Area and Perimiter of a Square and create a class name Square with sides as its attribute"
      ],
      "metadata": {
        "id": "HBmTfFLKXWKx"
      }
    },
    {
      "cell_type": "code",
      "source": [
        "#Area of a Square = s*s\n",
        "#Perimiter of a Square = 4*s + s+s+s+s\n",
        "\n",
        "class Square:\n",
        "  def __init__(self,side):\n",
        "   self.side = side\n",
        "\n",
        "  def Area(self):\n",
        "   return self.side*self.side\n",
        "\n",
        "  def Perimeter(self):\n",
        "   return 4*(self.side)\n",
        "\n",
        "  def display(self):\n",
        "   print(\"The area of a square is\",self.Area())\n",
        "   print(\"The perimeter of a square is\",self.Perimeter())\n",
        "\n",
        "sq1 = Square(4)\n",
        "sq1.display()"
      ],
      "metadata": {
        "colab": {
          "base_uri": "https://localhost:8080/"
        },
        "id": "IvdBjLlXXope",
        "outputId": "3378c417-ca7f-40b2-a9db-67cc0830f737"
      },
      "execution_count": null,
      "outputs": [
        {
          "output_type": "stream",
          "name": "stdout",
          "text": [
            "The area of a square is 16\n",
            "The perimeter of a square is 16\n"
          ]
        }
      ]
    },
    {
      "cell_type": "markdown",
      "source": [
        "Application 2 - Write a Python program that displays your s tudent no. and fullnames (Surname, First Name, Mi) and create a class name OOP_58002"
      ],
      "metadata": {
        "id": "HFmiOvKwq0AJ"
      }
    },
    {
      "cell_type": "code",
      "source": [
        "class Person:\n",
        "  def __init__(self,Surname,Firstname,Mi,number,classname):\n",
        "   self.Surname = Surname\n",
        "   self.Firstname = Firstname\n",
        "   self.Mi = Mi\n",
        "   self.number = number\n",
        "   self.classname = classname\n",
        "  \n",
        "  def myFunction(self):\n",
        "   print(\"I am\",self.Surname,self.Firstname,self.Mi,\"and student number is\",self.number)\n",
        "   print(self.classname)\n",
        "\n",
        "p1 = Person (\"Dumapias,\",\"Alfred Resti\",\"R.\",202110121,\"Section - OOP-58002\")\n",
        "p1.myFunction()"
      ],
      "metadata": {
        "colab": {
          "base_uri": "https://localhost:8080/"
        },
        "id": "jdqNlFPxurl8",
        "outputId": "f2970d38-8723-4f82-a096-db5cbcdf2817"
      },
      "execution_count": 54,
      "outputs": [
        {
          "output_type": "stream",
          "name": "stdout",
          "text": [
            "I am Dumapias, Alfred Resti R. and student number is 202110121\n",
            "Section - OOP-58002\n"
          ]
        }
      ]
    },
    {
      "cell_type": "code",
      "source": [
        "class Person:\n",
        "  def __init__(self,student,number):\n",
        "   self.student = student\n",
        "   self.number = number\n",
        "\n",
        "  def myFunction(self):\n",
        "   print(\"I am\",self.student,\"and my student number is\",self.number)\n",
        "   print(\"Section - OOP-58002\")\n",
        "\n",
        "p1= Person (\"Dumapias, Alfred Resti R.\", 202110121)\n",
        "p1.myFunction()"
      ],
      "metadata": {
        "colab": {
          "base_uri": "https://localhost:8080/"
        },
        "id": "glQ6p-Tx0e5V",
        "outputId": "87a8df5d-4d09-4e6f-edd1-dfd8220102b7"
      },
      "execution_count": 45,
      "outputs": [
        {
          "output_type": "stream",
          "name": "stdout",
          "text": [
            "I am Dumapias, Alfred Resti R. and my student number is 202110121\n",
            "Section - OOP-58002\n"
          ]
        }
      ]
    }
  ]
}